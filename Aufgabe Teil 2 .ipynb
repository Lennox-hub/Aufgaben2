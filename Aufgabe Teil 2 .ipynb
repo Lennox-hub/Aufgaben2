{
 "cells": [
  {
   "cell_type": "markdown",
   "metadata": {},
   "source": [
    "**Part 2: Create a stock-picking portfolio based on fundamental stock characteristics**\n",
    "    \n",
    "The Excel sheet contains 13 time series of fundamental stock characteristics (“factors”), such as Momentum, Valuation, Profitability, Risk. It also contains 2 time series of monthly returns, one in EUR and one in the local currency of each stock.\n",
    "\n",
    "The objective is to build a predictive model that creates a portfolio at the end of each month (i.e. a vector of weights) based on the factor values known at that point in time. The model should maximize the time series hit rate of local currency returns, i.e. the proportion of months where the portfolio’s local currency return is higher than the mean local currency return of the (non-delisted) stocks. Transaction costs can be ignored. Your model may be evaluated on a different list of stocks but with the same factors and dates, so make sure your code is flexible enough to handle a different number of stocks.\n",
    "\n",
    "Your report should contain a clear description of your model and document its performance by simulating the implied portfolio and monthly return series. You can do all transformations to the factors (normalizing, filing missing data, etc.) that you think make sense. Discuss the model you built in a few sentences. Does it work well? What are its weaknesses? What would you change if you had more time? Do you think it will work well on a different set of stocks? Use figures or tables to illustrate your findings.\n",
    "\n",
    "Remember that the goal is to show that you know how to work with Python, so the focus is more on the quality of the code than on the model."
   ]
  },
  {
   "cell_type": "code",
   "execution_count": null,
   "metadata": {},
   "outputs": [],
   "source": [
    "import pandas as pd"
   ]
  },
  {
   "cell_type": "code",
   "execution_count": 2,
   "metadata": {},
   "outputs": [],
   "source": [
    "# Please select the tab you would like to be considered for the ideal portfolio. This data will be loaded from \n",
    "# provided xlsx\n",
    "tab = 'F15'  #since goal is to maximize local currency returns\n",
    "\n",
    "# Please select number of stocks your portfolio should contain. Default is 100\n",
    "number_of_stocks = 100\n",
    "\n",
    "# Please select a point in time that you want the portfolio to be calculated for. Choose format 'YYYY-MM-DD'. For an\n",
    "# overall portfolio considering the entire timeframe leave it as None\n",
    "\n",
    "date_of_portfolio = '2004-12-31'"
   ]
  },
  {
   "cell_type": "code",
   "execution_count": null,
   "metadata": {},
   "outputs": [],
   "source": [
    "def load_returns(sheet_name = 'datenaufgabe.xlsx', tab = 'Stocks'):\n",
    "    \"\"\"[Returns Dataframe of specified tab in xlsx sheet]\n",
    "    \n",
    "    Arguments:\n",
    "        sheet_name {[string]} -- [Name of sheet or file path to sheet. Needs to be xlsx passed as string. finalproject by default]\n",
    "        tab {[string]} -- [Respective tab within selected sheet. 'Stocks' as default tab. Parse string]\n",
    "    \n",
    "    Returns:\n",
    "        [Returns dataframe containing dataframe of selected tab in xlsx file]\n",
    "    \"\"\"\n",
    "    \n",
    "    return pd.read_excel(sheet_name, tab)\n",
    "    \n",
    "data = load_returns(tab = tab)"
   ]
  },
  {
   "cell_type": "code",
   "execution_count": null,
   "metadata": {},
   "outputs": [],
   "source": [
    "def load_list_of_dates(raw_return_df, date_of_portfolio):\n",
    "    \n",
    "    list_of_dates = list(raw_return_df[raw_return_df[tab] <= date_of_portfolio][tab])\n",
    "    \n",
    "    return list_of_dates"
   ]
  },
  {
   "cell_type": "code",
   "execution_count": null,
   "metadata": {},
   "outputs": [],
   "source": [
    "def calculate_mean_and_std(raw_return_df, date_of_portfolio):\n",
    "    \"\"\"[Takes dataframe and returns mean and standard deviation for each column]\n",
    "    \n",
    "    Arguments:\n",
    "        raw_return_df {[dataframe]} -- [Dataframe containing stocks (columns) over time (rows)]\n",
    "    \n",
    "    Returns:\n",
    "        [iso_metrics] -- [Returns dataframe containing avg return (mean) and standard deviation (std) per stock as dataframe]\n",
    "    \"\"\"\n",
    "        \n",
    "    iso_metrics_mean_std_df = pd.DataFrame({\n",
    "                        'avg_return': raw_return_df.mean(axis=0),  \n",
    "                        'std': raw_return_df.std(axis=0)\n",
    "                        })\n",
    "    \n",
    "    return iso_metrics_mean_std_df\n"
   ]
  },
  {
   "cell_type": "code",
   "execution_count": null,
   "metadata": {},
   "outputs": [],
   "source": [
    "def get_best_performers_mean_std(raw_stocks_dataframe, number_of_stocks = 100, date_of_portfolio = None):\n",
    "    \n",
    "    mean_variance_stocks_dataframe = calculate_mean_and_std(raw_stocks_dataframe, date_of_portfolio)\n",
    "    \n",
    "    return mean_variance_stocks_dataframe.nlargest(number_of_stocks, 'avg_return')\n"
   ]
  },
  {
   "cell_type": "code",
   "execution_count": null,
   "metadata": {},
   "outputs": [],
   "source": [
    "highest_avg_return_df = get_best_performers_mean_std(data, date_of_portfolio = date_of_portfolio)"
   ]
  },
  {
   "cell_type": "code",
   "execution_count": null,
   "metadata": {},
   "outputs": [],
   "source": [
    "#highest overall average performance of stocks without for the whole timeperiod\n",
    "highest_avg_return_df"
   ]
  },
  {
   "cell_type": "code",
   "execution_count": null,
   "metadata": {},
   "outputs": [],
   "source": [
    "# Hier sind die 100 besten Stocks pro Monat. Müsste man jetzt noch mal einen count über die häufigkeit machen (empfehle hierzu ein dictionary)\n",
    "# pick stocks and weight them higher based on a count how often the stocks have been over the mean (looking back 3 months with top 100 performance and in local currency compared to the mean of local currency)\n",
    "# at the end some tables and figure of the portfolio, maybe compare it to a better performing portfolio and a worse perf. Portfolio\n",
    "x = data.set_index(tab).T\n",
    "\n",
    "for column in x:\n",
    "    print(x[column].nlargest(100).index)"
   ]
  },
  {
   "cell_type": "code",
   "execution_count": null,
   "metadata": {},
   "outputs": [],
   "source": [
    "highest_avg_return_df.plot()"
   ]
  }
 ],
 "metadata": {
  "kernelspec": {
   "display_name": "Python 3",
   "language": "python",
   "name": "python3"
  },
  "language_info": {
   "codemirror_mode": {
    "name": "ipython",
    "version": 3
   },
   "file_extension": ".py",
   "mimetype": "text/x-python",
   "name": "python",
   "nbconvert_exporter": "python",
   "pygments_lexer": "ipython3",
   "version": "3.6.9"
  }
 },
 "nbformat": 4,
 "nbformat_minor": 2
}
