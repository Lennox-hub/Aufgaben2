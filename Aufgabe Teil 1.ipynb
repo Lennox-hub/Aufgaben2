{
 "cells": [
  {
   "cell_type": "markdown",
   "metadata": {},
   "source": [
    "**Part 1: Analyze the return of a portfolio**\n",
    "\n",
    "At the end of 2004 a retail investor (that has EUR as a reference currency) bought a portfolio of 100 stocks for 1% each, as indicated in the \"Stocks\" sheet in the Excel file. He kept the stocks until the end of February 2020, but at the end of each month he rebalanced the portfolio such that each stock’s weight went back to its original 1% weight.\n",
    "\n",
    "The portfolio return is judged against a “benchmark” that has starting weights (as of end\n",
    "December 2004) as shown in the \"Stocks\" sheet. The benchmark is not rebalanced (i.e. the weights “drift” over time with the performance of the different stocks). When a stock gets delisted during a month, at the end of that same month the stock is sold (at the price at that time) and the proceeds distributed over all the other stocks, proportionally with the weight they have at that time.\n",
    "\n",
    "Your report should document the performance of the portfolio, including at least the following:\n",
    "\n",
    "● The total return of the portfolio and the total return of the benchmark over the entire period; the annualized return for both. Make sure you calculate the returns in EUR. **(Worksheet F14 for returns)**\n",
    "\n",
    "● The decomposition of the excess return (compared to the benchmark) into the contributions from the over- and underweighting of the different individual stocks. **(Difference between Portfolio and Benchmark retruns)**\n",
    "\n",
    "● The sectors and regions that contributed most to the return difference. **(Worksheet Stocks)**\n",
    "\n",
    "● The drivers of the excess return: over/underweighting the sector/region compared to the benchmark, or better/worse individual stock selection? \n",
    "\n",
    "● Max drawdown, best/worst months, annualized volatility, etc.\n",
    "\n",
    "You can add additional information you deem relevant for the analysis of the portfolio and use figures and tables when desirable.\n",
    "\n",
    "\n",
    "**Data**\n",
    "\n",
    "**The Excel workbook available here contains the following sheets:**\n",
    "\n",
    "● **Stocks**: a list of 1539 stocks, including some basic stock information; sector, region, currency and when the stocks were delisted (if applicable).\n",
    "\n",
    "● **Factors**: A list of 13 fundamental stock characteristics (“factors”) and 2 types of returns (in EUR and in local currency) over time.\n",
    "\n",
    "● **Other sheets**: contain end-of-month data for the stocks and factors between December 2004 and February 2020."
   ]
  },
  {
   "cell_type": "code",
   "execution_count": 23,
   "metadata": {},
   "outputs": [
    {
     "name": "stdout",
     "output_type": "stream",
     "text": [
      "           F14  IS0001  IS0002  IS0003  IS0004  IS0005  IS0006  IS0007  \\\n",
      "0   2004-12-31   -4.34   -1.76    0.20    2.48   10.43    1.03    0.46   \n",
      "1   2005-01-30   11.21   14.72   -5.62    0.92   -3.19    3.94   -8.69   \n",
      "2   2005-02-28    6.29    5.69   -0.67    6.36    3.49   -3.58   -2.43   \n",
      "3   2005-03-31  -14.20   -1.53   -2.90    4.27   -9.14   -2.37    8.55   \n",
      "4   2005-04-30   -8.77   -2.12   10.50    3.80    0.80   -0.06   -1.75   \n",
      "..         ...     ...     ...     ...     ...     ...     ...     ...   \n",
      "178 2019-10-31   -7.32  -12.86   -3.28    0.00    0.89    0.00   -4.20   \n",
      "179 2019-11-30   12.11    0.27    7.48    0.00   -1.13    0.00    4.45   \n",
      "180 2019-12-31  -12.74   -7.11   -3.25    0.00   -3.61    0.00  -15.10   \n",
      "181 2020-01-31    5.78    0.36    0.99    0.00    3.60    0.00    8.48   \n",
      "182 2020-02-28    2.13    4.65    7.18    0.00    0.49    0.00    5.91   \n",
      "\n",
      "     IS0008  IS0009  ...  IS1530  IS1531  IS1532  IS1533  IS1534  IS1535  \\\n",
      "0      2.49    2.57  ...    5.28   -6.03   -5.21    3.70    1.50   -5.69   \n",
      "1      4.17    0.67  ...    4.99    5.66    0.08   -3.04   10.33   -2.94   \n",
      "2      4.48   -2.30  ...   -9.14    3.06    9.18   -0.92   -1.14   -0.14   \n",
      "3     -3.75   -6.63  ...   10.83   -4.14    3.73    1.86   -1.37   -0.92   \n",
      "4      3.00    6.52  ...   -6.18    0.96    4.67    1.28   10.94    1.59   \n",
      "..      ...     ...  ...     ...     ...     ...     ...     ...     ...   \n",
      "178   -4.46   -8.59  ...   -4.64    0.91    1.94  -29.11  -11.43   -3.83   \n",
      "179    8.74   -3.02  ...   -6.59    6.32    2.49   -0.28    3.09    4.12   \n",
      "180   -8.88   -5.33  ...   -6.58    9.02   -1.27    1.30  -12.00  -17.07   \n",
      "181   12.45    2.48  ...    6.82    6.34    1.85   18.62    5.23   16.37   \n",
      "182    2.82   -2.39  ...    4.46   -0.77    1.78   13.07   14.16    8.86   \n",
      "\n",
      "     IS1536  IS1537  IS1538  IS1539  \n",
      "0     -2.08    6.20    1.24    2.24  \n",
      "1     -0.39    2.28    7.08   -5.56  \n",
      "2      8.03   12.94    3.37   -0.93  \n",
      "3     -3.80   -2.65   -3.03    6.10  \n",
      "4      3.90    2.79   -5.18    8.28  \n",
      "..      ...     ...     ...     ...  \n",
      "178    0.00    0.50   -6.28   -7.44  \n",
      "179    0.00    0.81   -5.15   10.10  \n",
      "180    0.00   -6.11   -6.51   -9.23  \n",
      "181    0.00    5.27   13.03    4.72  \n",
      "182    0.00    6.25   13.43    5.07  \n",
      "\n",
      "[183 rows x 1540 columns]\n"
     ]
    }
   ],
   "source": [
    "import pandas as pd\n",
    "\n",
    "tab = 'F14'\n",
    "\n",
    "def read_returns(sheet_name = 'datenaufgabe.xlsx', tab = 'F14'):\n",
    "    \"\"\"\"[Reads contents from 'datenaufgabe.xlsx']\n",
    "\n",
    "    Returns:\n",
    "        [Returns sheet 'F14' from 'datenaufgabe.xlsx' as DataFrame]\n",
    "    \n",
    "    pass\"\"\"\n",
    "    \n",
    "    return pd.read_excel(sheet_name, tab)\n",
    "# Here you should get a DataFrame with datetime index    \n",
    "data = read_returns(tab = tab)\n",
    "print(data)"
   ]
  },
  {
   "cell_type": "markdown",
   "metadata": {},
   "source": [
    "For reading excel with pandas look at [pandas.read_excel](https://pandas.pydata.org/pandas-docs/stable/reference/api/pandas.read_excel.html). In this case i would recommend reading into a [time series](https://pandas.pydata.org/pandas-docs/stable/user_guide/timeseries.html).\n",
    "\n",
    "You probably will need to do sth like `dates = returns.pop('F14')` where I assume `F14` is the column name that holds the dates. Then you can turn it to a DatetimeIndex like\n",
    "```python\n",
    "idx = pd.DatetimeIndex(dates.values)\n",
    "```\n",
    "and then set new index with\n",
    "\n",
    "```python\n",
    "returns.set_index(idx)\n",
    "```\n",
    "`read_excel` probably provides a more elegant solution but the above should work\n",
    "\n",
    "\n",
    "\n",
    "For the calculation of total return you should have a look at [pandas.DataFrame.diff](https://pandas.pydata.org/pandas-docs/stable/reference/api/pandas.DataFrame.diff.html)"
   ]
  },
  {
   "cell_type": "code",
   "execution_count": 14,
   "metadata": {},
   "outputs": [],
   "source": [
    "def total_return(portfolio):\n",
    "    dates = returns.pop('F14')\n",
    "    idx = pd.DatetimeIndex(dates.values)\n",
    "    data.set_index(idx)"
   ]
  },
  {
   "cell_type": "code",
   "execution_count": 2,
   "metadata": {},
   "outputs": [],
   "source": [
    "def total_return(portfolio):\n",
    "    \"\"\"[Returns the total return of the portfolio over the entire period]\n",
    "    \n",
    "    Arguments:\n",
    "        portfolio {[list]} -- [List of Stock Codes for portfolio]\n",
    "    \n",
    "    Returns:\n",
    "        [Returns total return over entire period]\n",
    "    \"\"\"\n",
    "    pass"
   ]
  },
  {
   "cell_type": "markdown",
   "metadata": {},
   "source": [
    "To keep it simple, I would implement the annual return as `total_return` and also pass the year as parameter. If you managed to get `returns` as time series you can now do:\n",
    "\n",
    "```python\n",
    "returns_2019 = returns['2019-01-01':'2019-12-31']\n",
    "```"
   ]
  },
  {
   "cell_type": "code",
   "execution_count": 3,
   "metadata": {},
   "outputs": [],
   "source": [
    "def annual_return(portfolio, year):\n",
    "    \"\"\"[Returns the annual return of the portfolio over the given year]\n",
    "    \n",
    "    Arguments:\n",
    "        portfolio {[list]} -- [List of Stock Codes for portfolio]\n",
    "        year {[string]} -- [String representing the year]\n",
    "    \n",
    "    Returns:\n",
    "        [Returns annual return for given year]\n",
    "    \"\"\"\n",
    "    pass"
   ]
  },
  {
   "cell_type": "code",
   "execution_count": null,
   "metadata": {},
   "outputs": [],
   "source": []
  }
 ],
 "metadata": {
  "kernelspec": {
   "display_name": "Python 3",
   "language": "python",
   "name": "python3"
  },
  "language_info": {
   "codemirror_mode": {
    "name": "ipython",
    "version": 3
   },
   "file_extension": ".py",
   "mimetype": "text/x-python",
   "name": "python",
   "nbconvert_exporter": "python",
   "pygments_lexer": "ipython3",
   "version": "3.7.4"
  }
 },
 "nbformat": 4,
 "nbformat_minor": 2
}
