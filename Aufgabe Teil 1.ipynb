{
 "cells": [
  {
   "cell_type": "markdown",
   "metadata": {},
   "source": [
    "**Part 1: Analyze the return of a portfolio**\n",
    "\n",
    "At the end of 2004 a retail investor (that has EUR as a reference currency) bought a portfolio of 100 stocks for 1% each, as indicated in the \"Stocks\" sheet in the Excel file. He kept the stocks until the end of February 2020, but at the end of each month he rebalanced the portfolio such that each stock’s weight went back to its original 1% weight.\n",
    "\n",
    "The portfolio return is judged against a “benchmark” that has starting weights (as of end\n",
    "December 2004) as shown in the \"Stocks\" sheet. The benchmark is not rebalanced (i.e. the weights “drift” over time with the performance of the different stocks). When a stock gets delisted during a month, at the end of that same month the stock is sold (at the price at that time) and the proceeds distributed over all the other stocks, proportionally with the weight they have at that time.\n",
    "\n",
    "Your report should document the performance of the portfolio, including at least the following:\n",
    "\n",
    "● The total return of the portfolio and the total return of the benchmark over the entire period; the annualized return for both. Make sure you calculate the returns in EUR. **(Worksheet F14 for returns)**\n",
    "\n",
    "● The decomposition of the excess return (compared to the benchmark) into the contributions from the over- and underweighting of the different individual stocks. **(Difference between Portfolio and Benchmark retruns)**\n",
    "\n",
    "● The sectors and regions that contributed most to the return difference. **(Worksheet Stocks)**\n",
    "\n",
    "● The drivers of the excess return: over/underweighting the sector/region compared to the benchmark, or better/worse individual stock selection? \n",
    "\n",
    "● Max drawdown, best/worst months, annualized volatility, etc.\n",
    "\n",
    "You can add additional information you deem relevant for the analysis of the portfolio and use figures and tables when desirable.\n",
    "\n",
    "\n",
    "**Data**\n",
    "\n",
    "**The Excel workbook available here contains the following sheets:**\n",
    "\n",
    "● **Stocks**: a list of 1539 stocks, including some basic stock information; sector, region, currency and when the stocks were delisted (if applicable).\n",
    "\n",
    "● **Factors**: A list of 13 fundamental stock characteristics (“factors”) and 2 types of returns (in EUR and in local currency) over time.\n",
    "\n",
    "● **Other sheets**: contain end-of-month data for the stocks and factors between December 2004 and February 2020."
   ]
  },
  {
   "cell_type": "code",
   "execution_count": null,
   "metadata": {},
   "outputs": [],
   "source": [
    "import pandas as pd"
   ]
  }
 ],
 "metadata": {
  "kernelspec": {
   "display_name": "Python 3",
   "language": "python",
   "name": "python3"
  },
  "language_info": {
   "codemirror_mode": {
    "name": "ipython",
    "version": 3
   },
   "file_extension": ".py",
   "mimetype": "text/x-python",
   "name": "python",
   "nbconvert_exporter": "python",
   "pygments_lexer": "ipython3",
   "version": "3.7.4"
  }
 },
 "nbformat": 4,
 "nbformat_minor": 2
}
