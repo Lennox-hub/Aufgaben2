{
 "cells": [
  {
   "cell_type": "markdown",
   "metadata": {},
   "source": [
    "**Part 1: Analyze the return of a portfolio**\n",
    "\n",
    "At the end of 2004 a retail investor (that has EUR as a reference currency) bought a portfolio of 100 stocks for 1% each, as indicated in the \"Stocks\" sheet in the Excel file. He kept the stocks until the end of February 2020, but at the end of each month he rebalanced the portfolio such that each stock’s weight went back to its original 1% weight.\n",
    "\n",
    "The portfolio return is judged against a “benchmark” that has starting weights (as of end\n",
    "December 2004) as shown in the \"Stocks\" sheet. The benchmark is not rebalanced (i.e. the weights “drift” over time with the performance of the different stocks). When a stock gets delisted during a month, at the end of that same month the stock is sold (at the price at that time) and the proceeds distributed over all the other stocks, proportionally with the weight they have at that time.\n",
    "\n",
    "Your report should document the performance of the portfolio, including at least the following:\n",
    "\n",
    "● The total return of the portfolio and the total return of the benchmark over the entire period; the annualized return for both. Make sure you calculate the returns in EUR. **(Worksheet F14 for returns)**\n",
    "\n",
    "● The decomposition of the excess return (compared to the benchmark) into the contributions from the over- and underweighting of the different individual stocks. **(Difference between Portfolio and Benchmark retruns)**\n",
    "\n",
    "● The sectors and regions that contributed most to the return difference. **(Worksheet Stocks)**\n",
    "\n",
    "● The drivers of the excess return: over/underweighting the sector/region compared to the benchmark, or better/worse individual stock selection? \n",
    "\n",
    "● Max drawdown, best/worst months, annualized volatility, etc.\n",
    "\n",
    "You can add additional information you deem relevant for the analysis of the portfolio and use figures and tables when desirable.\n",
    "\n",
    "\n",
    "**Data**\n",
    "\n",
    "**The Excel workbook available here contains the following sheets:**\n",
    "\n",
    "● **Stocks**: a list of 1539 stocks, including some basic stock information; sector, region, currency and when the stocks were delisted (if applicable).\n",
    "\n",
    "● **Factors**: A list of 13 fundamental stock characteristics (“factors”) and 2 types of returns (in EUR and in local currency) over time.\n",
    "\n",
    "● **Other sheets**: contain end-of-month data for the stocks and factors between December 2004 and February 2020."
   ]
  },
  {
   "cell_type": "code",
   "execution_count": 2,
   "metadata": {},
   "outputs": [],
   "source": [
    "import pandas as pd\n",
    "\n",
    "def read_returns():\n",
    "    \"\"\"[Reads contents from 'datenaufgabe.xlsx']\n",
    "    \n",
    "    Returns:\n",
    "        [Returns sheet 'F14' from 'datenaufgabe.xlsx' as DataFrame]\n",
    "    \"\"\"\n",
    "    pass\n",
    "\n",
    "returns = read_returns()\n",
    "\n",
    "# Here you should get a DataFrame with datetime index \n",
    "returns    "
   ]
  },
  {
   "cell_type": "markdown",
   "metadata": {},
   "source": [
    "For reading excel with pandas look at [pandas.read_excel](https://pandas.pydata.org/pandas-docs/stable/reference/api/pandas.read_excel.html). In this case i would recommend reading into a [time series](https://pandas.pydata.org/pandas-docs/stable/user_guide/timeseries.html).\n",
    "\n",
    "You probably will need to do sth like `dates = returns.pop('F14')` where I assume `F14` is the column name that holds the dates. Then you can turn it to a DatetimeIndex like\n",
    "```python\n",
    "idx = pd.DatetimeIndex(dates.values)\n",
    "```\n",
    "and then set new index with\n",
    "\n",
    "```python\n",
    "returns.set_index(idx)\n",
    "```\n",
    "`read_excel` probably provides a more elegant solution but the above should work\n",
    "\n",
    "\n",
    "\n",
    "For the calculation of total return you should have a look at [pandas.DataFrame.diff](https://pandas.pydata.org/pandas-docs/stable/reference/api/pandas.DataFrame.diff.html)"
   ]
  },
  {
   "cell_type": "code",
   "execution_count": 2,
   "metadata": {},
   "outputs": [],
   "source": [
    "def total_return(portfolio):\n",
    "    \"\"\"[Returns the total return of the portfolio over the entire period]\n",
    "    \n",
    "    Arguments:\n",
    "        portfolio {[list]} -- [List of Stock Codes for portfolio]\n",
    "    \n",
    "    Returns:\n",
    "        [Returns total return over entire period]\n",
    "    \"\"\"\n",
    "    pass"
   ]
  },
  {
   "cell_type": "markdown",
   "metadata": {},
   "source": [
    "To keep it simple, I would implement the annual return as `total_return` and also pass the year as parameter. If you managed to get `returns` as time series you can now do:\n",
    "\n",
    "```python\n",
    "returns_2019 = returns['2019-01-01':'2019-12-31']\n",
    "```"
   ]
  },
  {
   "cell_type": "code",
   "execution_count": null,
   "metadata": {},
   "outputs": [],
   "source": [
    "def annual_return(portfolio, year):\n",
    "    \"\"\"[Returns the annual return of the portfolio over the given year]\n",
    "    \n",
    "    Arguments:\n",
    "        portfolio {[list]} -- [List of Stock Codes for portfolio]\n",
    "        year {[string]} -- [String representing the year]\n",
    "    \n",
    "    Returns:\n",
    "        [Returns annual return for given year]\n",
    "    \"\"\"\n",
    "    pass"
   ]
  }
 ],
 "metadata": {
  "kernelspec": {
   "display_name": "Python 3",
   "language": "python",
   "name": "python3"
  },
  "language_info": {
   "codemirror_mode": {
    "name": "ipython",
    "version": 3
   },
   "file_extension": ".py",
   "mimetype": "text/x-python",
   "name": "python",
   "nbconvert_exporter": "python",
   "pygments_lexer": "ipython3",
   "version": "3.6.9"
  }
 },
 "nbformat": 4,
 "nbformat_minor": 2
}
